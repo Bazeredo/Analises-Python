{
 "cells": [
  {
   "cell_type": "code",
   "execution_count": 1,
   "metadata": {},
   "outputs": [],
   "source": [
    "#importando bibliotecas\n",
    "import pandas as pd \n",
    "import matplotlib.pyplot as plt\n",
    "import seaborn as sns"
   ]
  },
  {
   "cell_type": "code",
   "execution_count": 2,
   "metadata": {},
   "outputs": [
    {
     "data": {
      "text/html": [
       "<div>\n",
       "<style scoped>\n",
       "    .dataframe tbody tr th:only-of-type {\n",
       "        vertical-align: middle;\n",
       "    }\n",
       "\n",
       "    .dataframe tbody tr th {\n",
       "        vertical-align: top;\n",
       "    }\n",
       "\n",
       "    .dataframe thead th {\n",
       "        text-align: right;\n",
       "    }\n",
       "</style>\n",
       "<table border=\"1\" class=\"dataframe\">\n",
       "  <thead>\n",
       "    <tr style=\"text-align: right;\">\n",
       "      <th></th>\n",
       "      <th>Profile Name</th>\n",
       "      <th>Start Time</th>\n",
       "      <th>Duration</th>\n",
       "      <th>Attributes</th>\n",
       "      <th>Title</th>\n",
       "      <th>Supplemental Video Type</th>\n",
       "      <th>Device Type</th>\n",
       "      <th>Bookmark</th>\n",
       "      <th>Latest Bookmark</th>\n",
       "      <th>Country</th>\n",
       "    </tr>\n",
       "  </thead>\n",
       "  <tbody>\n",
       "    <tr>\n",
       "      <th>0</th>\n",
       "      <td>Bruna</td>\n",
       "      <td>2020-11-12 23:44:48</td>\n",
       "      <td>00:00:16</td>\n",
       "      <td>Autoplayed: user action: None;</td>\n",
       "      <td>Trailer: Amor com Data Marcada</td>\n",
       "      <td>TRAILER</td>\n",
       "      <td>LG 2018 Mstar M3 Standard DTV Smart TV</td>\n",
       "      <td>00:00:16</td>\n",
       "      <td>00:00:16</td>\n",
       "      <td>BR (Brazil)</td>\n",
       "    </tr>\n",
       "    <tr>\n",
       "      <th>1</th>\n",
       "      <td>Bruno</td>\n",
       "      <td>2020-11-12 16:38:55</td>\n",
       "      <td>00:13:06</td>\n",
       "      <td>NaN</td>\n",
       "      <td>O Sangue de Zeus: Temporada 1: De volta ao Oli...</td>\n",
       "      <td>NaN</td>\n",
       "      <td>Netflix AndroidLegacySTB Android</td>\n",
       "      <td>00:13:08</td>\n",
       "      <td>00:13:08</td>\n",
       "      <td>BR (Brazil)</td>\n",
       "    </tr>\n",
       "    <tr>\n",
       "      <th>2</th>\n",
       "      <td>Bruno</td>\n",
       "      <td>2020-11-12 16:15:43</td>\n",
       "      <td>00:23:02</td>\n",
       "      <td>NaN</td>\n",
       "      <td>O Sangue de Zeus: Temporada 1: Fugir ou morrer...</td>\n",
       "      <td>NaN</td>\n",
       "      <td>Netflix AndroidLegacySTB Android</td>\n",
       "      <td>00:23:06</td>\n",
       "      <td>00:23:06</td>\n",
       "      <td>BR (Brazil)</td>\n",
       "    </tr>\n",
       "    <tr>\n",
       "      <th>3</th>\n",
       "      <td>Bruno</td>\n",
       "      <td>2020-11-12 15:46:56</td>\n",
       "      <td>00:28:43</td>\n",
       "      <td>NaN</td>\n",
       "      <td>O Sangue de Zeus: Temporada 1: Nasce um monstr...</td>\n",
       "      <td>NaN</td>\n",
       "      <td>Netflix AndroidLegacySTB Android</td>\n",
       "      <td>00:28:47</td>\n",
       "      <td>00:28:47</td>\n",
       "      <td>BR (Brazil)</td>\n",
       "    </tr>\n",
       "    <tr>\n",
       "      <th>4</th>\n",
       "      <td>Bruno</td>\n",
       "      <td>2020-11-12 15:36:20</td>\n",
       "      <td>00:10:30</td>\n",
       "      <td>NaN</td>\n",
       "      <td>O Sangue de Zeus: Temporada 1: Ataque (Episódi...</td>\n",
       "      <td>NaN</td>\n",
       "      <td>Netflix AndroidLegacySTB Android</td>\n",
       "      <td>00:24:28</td>\n",
       "      <td>00:24:28</td>\n",
       "      <td>BR (Brazil)</td>\n",
       "    </tr>\n",
       "  </tbody>\n",
       "</table>\n",
       "</div>"
      ],
      "text/plain": [
       "  Profile Name           Start Time  Duration  \\\n",
       "0        Bruna  2020-11-12 23:44:48  00:00:16   \n",
       "1        Bruno  2020-11-12 16:38:55  00:13:06   \n",
       "2        Bruno  2020-11-12 16:15:43  00:23:02   \n",
       "3        Bruno  2020-11-12 15:46:56  00:28:43   \n",
       "4        Bruno  2020-11-12 15:36:20  00:10:30   \n",
       "\n",
       "                        Attributes  \\\n",
       "0  Autoplayed: user action: None;    \n",
       "1                              NaN   \n",
       "2                              NaN   \n",
       "3                              NaN   \n",
       "4                              NaN   \n",
       "\n",
       "                                               Title Supplemental Video Type  \\\n",
       "0                     Trailer: Amor com Data Marcada                 TRAILER   \n",
       "1  O Sangue de Zeus: Temporada 1: De volta ao Oli...                     NaN   \n",
       "2  O Sangue de Zeus: Temporada 1: Fugir ou morrer...                     NaN   \n",
       "3  O Sangue de Zeus: Temporada 1: Nasce um monstr...                     NaN   \n",
       "4  O Sangue de Zeus: Temporada 1: Ataque (Episódi...                     NaN   \n",
       "\n",
       "                              Device Type  Bookmark Latest Bookmark  \\\n",
       "0  LG 2018 Mstar M3 Standard DTV Smart TV  00:00:16        00:00:16   \n",
       "1        Netflix AndroidLegacySTB Android  00:13:08        00:13:08   \n",
       "2        Netflix AndroidLegacySTB Android  00:23:06        00:23:06   \n",
       "3        Netflix AndroidLegacySTB Android  00:28:47        00:28:47   \n",
       "4        Netflix AndroidLegacySTB Android  00:24:28        00:24:28   \n",
       "\n",
       "       Country  \n",
       "0  BR (Brazil)  \n",
       "1  BR (Brazil)  \n",
       "2  BR (Brazil)  \n",
       "3  BR (Brazil)  \n",
       "4  BR (Brazil)  "
      ]
     },
     "execution_count": 2,
     "metadata": {},
     "output_type": "execute_result"
    }
   ],
   "source": [
    "#Criando o DataFrame com os dados enviados pela NetFlix\n",
    "df = pd.read_csv(r'ViewingActivity.csv')\n",
    "df.head()"
   ]
  },
  {
   "cell_type": "code",
   "execution_count": 3,
   "metadata": {},
   "outputs": [
    {
     "data": {
      "text/plain": [
       "(11511, 10)"
      ]
     },
     "execution_count": 3,
     "metadata": {},
     "output_type": "execute_result"
    }
   ],
   "source": [
    "#verificando o tamanho da tabela\n",
    "df.shape"
   ]
  },
  {
   "cell_type": "code",
   "execution_count": 4,
   "metadata": {},
   "outputs": [
    {
     "name": "stdout",
     "output_type": "stream",
     "text": [
      "<class 'pandas.core.frame.DataFrame'>\n",
      "RangeIndex: 11511 entries, 0 to 11510\n",
      "Data columns (total 10 columns):\n",
      "Profile Name               11511 non-null object\n",
      "Start Time                 11511 non-null object\n",
      "Duration                   11511 non-null object\n",
      "Attributes                 2172 non-null object\n",
      "Title                      11511 non-null object\n",
      "Supplemental Video Type    237 non-null object\n",
      "Device Type                11511 non-null object\n",
      "Bookmark                   11511 non-null object\n",
      "Latest Bookmark            11511 non-null object\n",
      "Country                    11511 non-null object\n",
      "dtypes: object(10)\n",
      "memory usage: 899.4+ KB\n"
     ]
    }
   ],
   "source": [
    "#verificando os campos da tabela\n",
    "df.info()"
   ]
  },
  {
   "cell_type": "code",
   "execution_count": 5,
   "metadata": {},
   "outputs": [
    {
     "data": {
      "text/html": [
       "<div>\n",
       "<style scoped>\n",
       "    .dataframe tbody tr th:only-of-type {\n",
       "        vertical-align: middle;\n",
       "    }\n",
       "\n",
       "    .dataframe tbody tr th {\n",
       "        vertical-align: top;\n",
       "    }\n",
       "\n",
       "    .dataframe thead th {\n",
       "        text-align: right;\n",
       "    }\n",
       "</style>\n",
       "<table border=\"1\" class=\"dataframe\">\n",
       "  <thead>\n",
       "    <tr style=\"text-align: right;\">\n",
       "      <th></th>\n",
       "      <th>Profile Name</th>\n",
       "      <th>Start Time</th>\n",
       "      <th>Duration</th>\n",
       "      <th>Title</th>\n",
       "      <th>Device Type</th>\n",
       "    </tr>\n",
       "  </thead>\n",
       "  <tbody>\n",
       "    <tr>\n",
       "      <th>0</th>\n",
       "      <td>Bruna</td>\n",
       "      <td>2020-11-12 23:44:48</td>\n",
       "      <td>00:00:16</td>\n",
       "      <td>Trailer: Amor com Data Marcada</td>\n",
       "      <td>LG 2018 Mstar M3 Standard DTV Smart TV</td>\n",
       "    </tr>\n",
       "    <tr>\n",
       "      <th>1</th>\n",
       "      <td>Bruno</td>\n",
       "      <td>2020-11-12 16:38:55</td>\n",
       "      <td>00:13:06</td>\n",
       "      <td>O Sangue de Zeus: Temporada 1: De volta ao Oli...</td>\n",
       "      <td>Netflix AndroidLegacySTB Android</td>\n",
       "    </tr>\n",
       "    <tr>\n",
       "      <th>2</th>\n",
       "      <td>Bruno</td>\n",
       "      <td>2020-11-12 16:15:43</td>\n",
       "      <td>00:23:02</td>\n",
       "      <td>O Sangue de Zeus: Temporada 1: Fugir ou morrer...</td>\n",
       "      <td>Netflix AndroidLegacySTB Android</td>\n",
       "    </tr>\n",
       "    <tr>\n",
       "      <th>3</th>\n",
       "      <td>Bruno</td>\n",
       "      <td>2020-11-12 15:46:56</td>\n",
       "      <td>00:28:43</td>\n",
       "      <td>O Sangue de Zeus: Temporada 1: Nasce um monstr...</td>\n",
       "      <td>Netflix AndroidLegacySTB Android</td>\n",
       "    </tr>\n",
       "    <tr>\n",
       "      <th>4</th>\n",
       "      <td>Bruno</td>\n",
       "      <td>2020-11-12 15:36:20</td>\n",
       "      <td>00:10:30</td>\n",
       "      <td>O Sangue de Zeus: Temporada 1: Ataque (Episódi...</td>\n",
       "      <td>Netflix AndroidLegacySTB Android</td>\n",
       "    </tr>\n",
       "  </tbody>\n",
       "</table>\n",
       "</div>"
      ],
      "text/plain": [
       "  Profile Name           Start Time  Duration  \\\n",
       "0        Bruna  2020-11-12 23:44:48  00:00:16   \n",
       "1        Bruno  2020-11-12 16:38:55  00:13:06   \n",
       "2        Bruno  2020-11-12 16:15:43  00:23:02   \n",
       "3        Bruno  2020-11-12 15:46:56  00:28:43   \n",
       "4        Bruno  2020-11-12 15:36:20  00:10:30   \n",
       "\n",
       "                                               Title  \\\n",
       "0                     Trailer: Amor com Data Marcada   \n",
       "1  O Sangue de Zeus: Temporada 1: De volta ao Oli...   \n",
       "2  O Sangue de Zeus: Temporada 1: Fugir ou morrer...   \n",
       "3  O Sangue de Zeus: Temporada 1: Nasce um monstr...   \n",
       "4  O Sangue de Zeus: Temporada 1: Ataque (Episódi...   \n",
       "\n",
       "                              Device Type  \n",
       "0  LG 2018 Mstar M3 Standard DTV Smart TV  \n",
       "1        Netflix AndroidLegacySTB Android  \n",
       "2        Netflix AndroidLegacySTB Android  \n",
       "3        Netflix AndroidLegacySTB Android  \n",
       "4        Netflix AndroidLegacySTB Android  "
      ]
     },
     "execution_count": 5,
     "metadata": {},
     "output_type": "execute_result"
    }
   ],
   "source": [
    "#deletando campos desnecessarios para analise\n",
    "df.drop(['Attributes','Supplemental Video Type','Bookmark', 'Latest Bookmark', 'Country'], axis=1, inplace=True)\n",
    "df.head()"
   ]
  },
  {
   "cell_type": "code",
   "execution_count": 6,
   "metadata": {},
   "outputs": [],
   "source": [
    "#Renomeando colunas\n",
    "df.columns = ['Profile_Name','Start_Time','Duration','Title','Device_Type']"
   ]
  },
  {
   "cell_type": "code",
   "execution_count": 7,
   "metadata": {},
   "outputs": [
    {
     "data": {
      "text/plain": [
       "False"
      ]
     },
     "execution_count": 7,
     "metadata": {},
     "output_type": "execute_result"
    }
   ],
   "source": [
    "#Verificando a existencia de dados nulos\n",
    "df.isna().values.any()"
   ]
  },
  {
   "cell_type": "code",
   "execution_count": 8,
   "metadata": {},
   "outputs": [
    {
     "data": {
      "text/plain": [
       "Profile_Name    object\n",
       "Start_Time      object\n",
       "Duration        object\n",
       "Title           object\n",
       "Device_Type     object\n",
       "dtype: object"
      ]
     },
     "execution_count": 8,
     "metadata": {},
     "output_type": "execute_result"
    }
   ],
   "source": [
    "#verificando os tipos de dados de cada coluna\n",
    "df.dtypes"
   ]
  },
  {
   "cell_type": "code",
   "execution_count": 9,
   "metadata": {},
   "outputs": [
    {
     "data": {
      "text/plain": [
       "Profile_Name                 object\n",
       "Start_Time      datetime64[ns, UTC]\n",
       "Duration                     object\n",
       "Title                        object\n",
       "Device_Type                  object\n",
       "dtype: object"
      ]
     },
     "execution_count": 9,
     "metadata": {},
     "output_type": "execute_result"
    }
   ],
   "source": [
    "#convertendo a coluna Start_Time para DateTime\n",
    "df['Start_Time'] = pd.to_datetime(df['Start_Time'], utc=True)\n",
    "df.dtypes"
   ]
  },
  {
   "cell_type": "code",
   "execution_count": 10,
   "metadata": {},
   "outputs": [
    {
     "data": {
      "text/html": [
       "<div>\n",
       "<style scoped>\n",
       "    .dataframe tbody tr th:only-of-type {\n",
       "        vertical-align: middle;\n",
       "    }\n",
       "\n",
       "    .dataframe tbody tr th {\n",
       "        vertical-align: top;\n",
       "    }\n",
       "\n",
       "    .dataframe thead th {\n",
       "        text-align: right;\n",
       "    }\n",
       "</style>\n",
       "<table border=\"1\" class=\"dataframe\">\n",
       "  <thead>\n",
       "    <tr style=\"text-align: right;\">\n",
       "      <th></th>\n",
       "      <th>Start_Time</th>\n",
       "      <th>Profile_Name</th>\n",
       "      <th>Duration</th>\n",
       "      <th>Title</th>\n",
       "      <th>Device_Type</th>\n",
       "    </tr>\n",
       "  </thead>\n",
       "  <tbody>\n",
       "    <tr>\n",
       "      <th>0</th>\n",
       "      <td>2020-11-12 21:44:48-02:00</td>\n",
       "      <td>Bruna</td>\n",
       "      <td>00:00:16</td>\n",
       "      <td>Trailer: Amor com Data Marcada</td>\n",
       "      <td>LG 2018 Mstar M3 Standard DTV Smart TV</td>\n",
       "    </tr>\n",
       "    <tr>\n",
       "      <th>1</th>\n",
       "      <td>2020-11-12 14:38:55-02:00</td>\n",
       "      <td>Bruno</td>\n",
       "      <td>00:13:06</td>\n",
       "      <td>O Sangue de Zeus: Temporada 1: De volta ao Oli...</td>\n",
       "      <td>Netflix AndroidLegacySTB Android</td>\n",
       "    </tr>\n",
       "    <tr>\n",
       "      <th>2</th>\n",
       "      <td>2020-11-12 14:15:43-02:00</td>\n",
       "      <td>Bruno</td>\n",
       "      <td>00:23:02</td>\n",
       "      <td>O Sangue de Zeus: Temporada 1: Fugir ou morrer...</td>\n",
       "      <td>Netflix AndroidLegacySTB Android</td>\n",
       "    </tr>\n",
       "    <tr>\n",
       "      <th>3</th>\n",
       "      <td>2020-11-12 13:46:56-02:00</td>\n",
       "      <td>Bruno</td>\n",
       "      <td>00:28:43</td>\n",
       "      <td>O Sangue de Zeus: Temporada 1: Nasce um monstr...</td>\n",
       "      <td>Netflix AndroidLegacySTB Android</td>\n",
       "    </tr>\n",
       "    <tr>\n",
       "      <th>4</th>\n",
       "      <td>2020-11-12 13:36:20-02:00</td>\n",
       "      <td>Bruno</td>\n",
       "      <td>00:10:30</td>\n",
       "      <td>O Sangue de Zeus: Temporada 1: Ataque (Episódi...</td>\n",
       "      <td>Netflix AndroidLegacySTB Android</td>\n",
       "    </tr>\n",
       "  </tbody>\n",
       "</table>\n",
       "</div>"
      ],
      "text/plain": [
       "                 Start_Time Profile_Name  Duration  \\\n",
       "0 2020-11-12 21:44:48-02:00        Bruna  00:00:16   \n",
       "1 2020-11-12 14:38:55-02:00        Bruno  00:13:06   \n",
       "2 2020-11-12 14:15:43-02:00        Bruno  00:23:02   \n",
       "3 2020-11-12 13:46:56-02:00        Bruno  00:28:43   \n",
       "4 2020-11-12 13:36:20-02:00        Bruno  00:10:30   \n",
       "\n",
       "                                               Title  \\\n",
       "0                     Trailer: Amor com Data Marcada   \n",
       "1  O Sangue de Zeus: Temporada 1: De volta ao Oli...   \n",
       "2  O Sangue de Zeus: Temporada 1: Fugir ou morrer...   \n",
       "3  O Sangue de Zeus: Temporada 1: Nasce um monstr...   \n",
       "4  O Sangue de Zeus: Temporada 1: Ataque (Episódi...   \n",
       "\n",
       "                              Device_Type  \n",
       "0  LG 2018 Mstar M3 Standard DTV Smart TV  \n",
       "1        Netflix AndroidLegacySTB Android  \n",
       "2        Netflix AndroidLegacySTB Android  \n",
       "3        Netflix AndroidLegacySTB Android  \n",
       "4        Netflix AndroidLegacySTB Android  "
      ]
     },
     "execution_count": 10,
     "metadata": {},
     "output_type": "execute_result"
    }
   ],
   "source": [
    "#setando a coluna Start_time como index\n",
    "df = df.set_index('Start_Time')\n",
    "\n",
    "#Convertendo o fuso horario UTC\n",
    "df.index = df.index.tz_convert('America/Sao_paulo')\n",
    "\n",
    "#tornando o Start_time uma coluna novamente\n",
    "df = df.reset_index()\n",
    "\n",
    "df.head()"
   ]
  },
  {
   "cell_type": "code",
   "execution_count": 11,
   "metadata": {},
   "outputs": [
    {
     "data": {
      "text/plain": [
       "Start_Time      datetime64[ns, America/Sao_Paulo]\n",
       "Profile_Name                               object\n",
       "Duration                          timedelta64[ns]\n",
       "Title                                      object\n",
       "Device_Type                                object\n",
       "dtype: object"
      ]
     },
     "execution_count": 11,
     "metadata": {},
     "output_type": "execute_result"
    }
   ],
   "source": [
    "##convertendo a coluna Duracion para TimeDelta\n",
    "df['Duration'] = pd.to_timedelta(df['Duration'])\n",
    "df.dtypes"
   ]
  },
  {
   "cell_type": "code",
   "execution_count": 12,
   "metadata": {},
   "outputs": [
    {
     "data": {
      "text/html": [
       "<div>\n",
       "<style scoped>\n",
       "    .dataframe tbody tr th:only-of-type {\n",
       "        vertical-align: middle;\n",
       "    }\n",
       "\n",
       "    .dataframe tbody tr th {\n",
       "        vertical-align: top;\n",
       "    }\n",
       "\n",
       "    .dataframe thead th {\n",
       "        text-align: right;\n",
       "    }\n",
       "</style>\n",
       "<table border=\"1\" class=\"dataframe\">\n",
       "  <thead>\n",
       "    <tr style=\"text-align: right;\">\n",
       "      <th></th>\n",
       "      <th>Start_Time</th>\n",
       "      <th>Profile_Name</th>\n",
       "      <th>Duration</th>\n",
       "      <th>Device_Type</th>\n",
       "      <th>Title_name</th>\n",
       "      <th>Season</th>\n",
       "      <th>Episode</th>\n",
       "    </tr>\n",
       "  </thead>\n",
       "  <tbody>\n",
       "    <tr>\n",
       "      <th>0</th>\n",
       "      <td>2020-11-12 21:44:48-02:00</td>\n",
       "      <td>Bruna</td>\n",
       "      <td>00:00:16</td>\n",
       "      <td>LG 2018 Mstar M3 Standard DTV Smart TV</td>\n",
       "      <td>Trailer</td>\n",
       "      <td>Amor com Data Marcada</td>\n",
       "      <td>None</td>\n",
       "    </tr>\n",
       "    <tr>\n",
       "      <th>1</th>\n",
       "      <td>2020-11-12 14:38:55-02:00</td>\n",
       "      <td>Bruno</td>\n",
       "      <td>00:13:06</td>\n",
       "      <td>Netflix AndroidLegacySTB Android</td>\n",
       "      <td>O Sangue de Zeus</td>\n",
       "      <td>Temporada 1</td>\n",
       "      <td>De volta ao Olimpo (Episódio 6)</td>\n",
       "    </tr>\n",
       "    <tr>\n",
       "      <th>2</th>\n",
       "      <td>2020-11-12 14:15:43-02:00</td>\n",
       "      <td>Bruno</td>\n",
       "      <td>00:23:02</td>\n",
       "      <td>Netflix AndroidLegacySTB Android</td>\n",
       "      <td>O Sangue de Zeus</td>\n",
       "      <td>Temporada 1</td>\n",
       "      <td>Fugir ou morrer (Episódio 5)</td>\n",
       "    </tr>\n",
       "    <tr>\n",
       "      <th>3</th>\n",
       "      <td>2020-11-12 13:46:56-02:00</td>\n",
       "      <td>Bruno</td>\n",
       "      <td>00:28:43</td>\n",
       "      <td>Netflix AndroidLegacySTB Android</td>\n",
       "      <td>O Sangue de Zeus</td>\n",
       "      <td>Temporada 1</td>\n",
       "      <td>Nasce um monstro (Episódio 4)</td>\n",
       "    </tr>\n",
       "    <tr>\n",
       "      <th>4</th>\n",
       "      <td>2020-11-12 13:36:20-02:00</td>\n",
       "      <td>Bruno</td>\n",
       "      <td>00:10:30</td>\n",
       "      <td>Netflix AndroidLegacySTB Android</td>\n",
       "      <td>O Sangue de Zeus</td>\n",
       "      <td>Temporada 1</td>\n",
       "      <td>Ataque (Episódio 3)</td>\n",
       "    </tr>\n",
       "  </tbody>\n",
       "</table>\n",
       "</div>"
      ],
      "text/plain": [
       "                 Start_Time Profile_Name Duration  \\\n",
       "0 2020-11-12 21:44:48-02:00        Bruna 00:00:16   \n",
       "1 2020-11-12 14:38:55-02:00        Bruno 00:13:06   \n",
       "2 2020-11-12 14:15:43-02:00        Bruno 00:23:02   \n",
       "3 2020-11-12 13:46:56-02:00        Bruno 00:28:43   \n",
       "4 2020-11-12 13:36:20-02:00        Bruno 00:10:30   \n",
       "\n",
       "                              Device_Type        Title_name  \\\n",
       "0  LG 2018 Mstar M3 Standard DTV Smart TV           Trailer   \n",
       "1        Netflix AndroidLegacySTB Android  O Sangue de Zeus   \n",
       "2        Netflix AndroidLegacySTB Android  O Sangue de Zeus   \n",
       "3        Netflix AndroidLegacySTB Android  O Sangue de Zeus   \n",
       "4        Netflix AndroidLegacySTB Android  O Sangue de Zeus   \n",
       "\n",
       "                   Season                           Episode  \n",
       "0   Amor com Data Marcada                              None  \n",
       "1             Temporada 1   De volta ao Olimpo (Episódio 6)  \n",
       "2             Temporada 1      Fugir ou morrer (Episódio 5)  \n",
       "3             Temporada 1     Nasce um monstro (Episódio 4)  \n",
       "4             Temporada 1               Ataque (Episódio 3)  "
      ]
     },
     "execution_count": 12,
     "metadata": {},
     "output_type": "execute_result"
    }
   ],
   "source": [
    "#demembrando dados da coluna Title e transformando em 'Title_name','Season','Episode'\n",
    "df[['Title_name','Season','Episode']] = df['Title'].str.split(':', n=2, expand=True)\n",
    "\n",
    "df.drop('Title',axis=1, inplace=True)\n",
    "df.head()"
   ]
  },
  {
   "cell_type": "code",
   "execution_count": 13,
   "metadata": {},
   "outputs": [
    {
     "data": {
      "text/html": [
       "<div>\n",
       "<style scoped>\n",
       "    .dataframe tbody tr th:only-of-type {\n",
       "        vertical-align: middle;\n",
       "    }\n",
       "\n",
       "    .dataframe tbody tr th {\n",
       "        vertical-align: top;\n",
       "    }\n",
       "\n",
       "    .dataframe thead th {\n",
       "        text-align: right;\n",
       "    }\n",
       "</style>\n",
       "<table border=\"1\" class=\"dataframe\">\n",
       "  <thead>\n",
       "    <tr style=\"text-align: right;\">\n",
       "      <th></th>\n",
       "      <th>Start_Time</th>\n",
       "      <th>Profile_Name</th>\n",
       "      <th>Duration</th>\n",
       "      <th>Device_Type</th>\n",
       "      <th>Title_name</th>\n",
       "      <th>Season</th>\n",
       "      <th>Episode</th>\n",
       "      <th>Weekday</th>\n",
       "      <th>Hour</th>\n",
       "    </tr>\n",
       "  </thead>\n",
       "  <tbody>\n",
       "    <tr>\n",
       "      <th>0</th>\n",
       "      <td>2020-11-12 21:44:48-02:00</td>\n",
       "      <td>Bruna</td>\n",
       "      <td>00:00:16</td>\n",
       "      <td>LG 2018 Mstar M3 Standard DTV Smart TV</td>\n",
       "      <td>Trailer</td>\n",
       "      <td>Amor com Data Marcada</td>\n",
       "      <td>None</td>\n",
       "      <td>3</td>\n",
       "      <td>21</td>\n",
       "    </tr>\n",
       "    <tr>\n",
       "      <th>1</th>\n",
       "      <td>2020-11-12 14:38:55-02:00</td>\n",
       "      <td>Bruno</td>\n",
       "      <td>00:13:06</td>\n",
       "      <td>Netflix AndroidLegacySTB Android</td>\n",
       "      <td>O Sangue de Zeus</td>\n",
       "      <td>Temporada 1</td>\n",
       "      <td>De volta ao Olimpo (Episódio 6)</td>\n",
       "      <td>3</td>\n",
       "      <td>14</td>\n",
       "    </tr>\n",
       "    <tr>\n",
       "      <th>2</th>\n",
       "      <td>2020-11-12 14:15:43-02:00</td>\n",
       "      <td>Bruno</td>\n",
       "      <td>00:23:02</td>\n",
       "      <td>Netflix AndroidLegacySTB Android</td>\n",
       "      <td>O Sangue de Zeus</td>\n",
       "      <td>Temporada 1</td>\n",
       "      <td>Fugir ou morrer (Episódio 5)</td>\n",
       "      <td>3</td>\n",
       "      <td>14</td>\n",
       "    </tr>\n",
       "    <tr>\n",
       "      <th>3</th>\n",
       "      <td>2020-11-12 13:46:56-02:00</td>\n",
       "      <td>Bruno</td>\n",
       "      <td>00:28:43</td>\n",
       "      <td>Netflix AndroidLegacySTB Android</td>\n",
       "      <td>O Sangue de Zeus</td>\n",
       "      <td>Temporada 1</td>\n",
       "      <td>Nasce um monstro (Episódio 4)</td>\n",
       "      <td>3</td>\n",
       "      <td>13</td>\n",
       "    </tr>\n",
       "    <tr>\n",
       "      <th>4</th>\n",
       "      <td>2020-11-12 13:36:20-02:00</td>\n",
       "      <td>Bruno</td>\n",
       "      <td>00:10:30</td>\n",
       "      <td>Netflix AndroidLegacySTB Android</td>\n",
       "      <td>O Sangue de Zeus</td>\n",
       "      <td>Temporada 1</td>\n",
       "      <td>Ataque (Episódio 3)</td>\n",
       "      <td>3</td>\n",
       "      <td>13</td>\n",
       "    </tr>\n",
       "  </tbody>\n",
       "</table>\n",
       "</div>"
      ],
      "text/plain": [
       "                 Start_Time Profile_Name Duration  \\\n",
       "0 2020-11-12 21:44:48-02:00        Bruna 00:00:16   \n",
       "1 2020-11-12 14:38:55-02:00        Bruno 00:13:06   \n",
       "2 2020-11-12 14:15:43-02:00        Bruno 00:23:02   \n",
       "3 2020-11-12 13:46:56-02:00        Bruno 00:28:43   \n",
       "4 2020-11-12 13:36:20-02:00        Bruno 00:10:30   \n",
       "\n",
       "                              Device_Type        Title_name  \\\n",
       "0  LG 2018 Mstar M3 Standard DTV Smart TV           Trailer   \n",
       "1        Netflix AndroidLegacySTB Android  O Sangue de Zeus   \n",
       "2        Netflix AndroidLegacySTB Android  O Sangue de Zeus   \n",
       "3        Netflix AndroidLegacySTB Android  O Sangue de Zeus   \n",
       "4        Netflix AndroidLegacySTB Android  O Sangue de Zeus   \n",
       "\n",
       "                   Season                           Episode  Weekday  Hour  \n",
       "0   Amor com Data Marcada                              None        3    21  \n",
       "1             Temporada 1   De volta ao Olimpo (Episódio 6)        3    14  \n",
       "2             Temporada 1      Fugir ou morrer (Episódio 5)        3    14  \n",
       "3             Temporada 1     Nasce um monstro (Episódio 4)        3    13  \n",
       "4             Temporada 1               Ataque (Episódio 3)        3    13  "
      ]
     },
     "execution_count": 13,
     "metadata": {},
     "output_type": "execute_result"
    }
   ],
   "source": [
    "#criando os campos dia e hora de exibição\n",
    "df['Weekday'] = df['Start_Time'].dt.weekday\n",
    "df['Hour'] = df['Start_Time'].dt.hour\n",
    "\n",
    "df.head()"
   ]
  },
  {
   "cell_type": "code",
   "execution_count": 14,
   "metadata": {},
   "outputs": [
    {
     "data": {
      "text/html": [
       "<div>\n",
       "<style scoped>\n",
       "    .dataframe tbody tr th:only-of-type {\n",
       "        vertical-align: middle;\n",
       "    }\n",
       "\n",
       "    .dataframe tbody tr th {\n",
       "        vertical-align: top;\n",
       "    }\n",
       "\n",
       "    .dataframe thead th {\n",
       "        text-align: right;\n",
       "    }\n",
       "</style>\n",
       "<table border=\"1\" class=\"dataframe\">\n",
       "  <thead>\n",
       "    <tr style=\"text-align: right;\">\n",
       "      <th></th>\n",
       "      <th>Duration</th>\n",
       "    </tr>\n",
       "    <tr>\n",
       "      <th>Title_name</th>\n",
       "      <th></th>\n",
       "    </tr>\n",
       "  </thead>\n",
       "  <tbody>\n",
       "    <tr>\n",
       "      <th>Friends</th>\n",
       "      <td>14 days 11:33:04</td>\n",
       "    </tr>\n",
       "    <tr>\n",
       "      <th>Três é Demais</th>\n",
       "      <td>5 days 07:23:27</td>\n",
       "    </tr>\n",
       "    <tr>\n",
       "      <th>Arrow</th>\n",
       "      <td>4 days 14:00:51</td>\n",
       "    </tr>\n",
       "    <tr>\n",
       "      <th>A Anatomia de Grey</th>\n",
       "      <td>4 days 05:42:10</td>\n",
       "    </tr>\n",
       "    <tr>\n",
       "      <th>Modern Family</th>\n",
       "      <td>3 days 09:39:51</td>\n",
       "    </tr>\n",
       "    <tr>\n",
       "      <th>Um maluco no pedaço</th>\n",
       "      <td>3 days 04:48:47</td>\n",
       "    </tr>\n",
       "    <tr>\n",
       "      <th>How I Met Your Mother</th>\n",
       "      <td>3 days 03:18:40</td>\n",
       "    </tr>\n",
       "    <tr>\n",
       "      <th>Two and a Half Men</th>\n",
       "      <td>3 days 01:01:30</td>\n",
       "    </tr>\n",
       "    <tr>\n",
       "      <th>Rick and Morty</th>\n",
       "      <td>2 days 22:12:31</td>\n",
       "    </tr>\n",
       "    <tr>\n",
       "      <th>Jessie</th>\n",
       "      <td>2 days 18:58:57</td>\n",
       "    </tr>\n",
       "  </tbody>\n",
       "</table>\n",
       "</div>"
      ],
      "text/plain": [
       "                              Duration\n",
       "Title_name                            \n",
       "Friends               14 days 11:33:04\n",
       "Três é Demais          5 days 07:23:27\n",
       "Arrow                  4 days 14:00:51\n",
       "A Anatomia de Grey     4 days 05:42:10\n",
       "Modern Family          3 days 09:39:51\n",
       "Um maluco no pedaço    3 days 04:48:47\n",
       "How I Met Your Mother  3 days 03:18:40\n",
       "Two and a Half Men     3 days 01:01:30\n",
       "Rick and Morty         2 days 22:12:31\n",
       "Jessie                 2 days 18:58:57"
      ]
     },
     "execution_count": 14,
     "metadata": {},
     "output_type": "execute_result"
    }
   ],
   "source": [
    "#top 10 filmes mais assistidos\n",
    "df.groupby(['Title_name']).agg({'Duration':'sum'}).sort_values(by='Duration',ascending=False).head(10)"
   ]
  },
  {
   "cell_type": "code",
   "execution_count": 15,
   "metadata": {},
   "outputs": [
    {
     "data": {
      "text/plain": [
       "Profile_Name\n",
       "Bruno   87 days 04:53:36\n",
       "Bruna   66 days 06:17:53\n",
       "Kids     0 days 00:22:38\n",
       "Name: Duration, dtype: timedelta64[ns]"
      ]
     },
     "execution_count": 15,
     "metadata": {},
     "output_type": "execute_result"
    }
   ],
   "source": [
    "#verificando qual perfil mais acessa a NetFlix\n",
    "df.groupby(by='Profile_Name')['Duration'].sum().sort_values(ascending=False)"
   ]
  },
  {
   "cell_type": "code",
   "execution_count": 16,
   "metadata": {},
   "outputs": [
    {
     "data": {
      "text/html": [
       "<div>\n",
       "<style scoped>\n",
       "    .dataframe tbody tr th:only-of-type {\n",
       "        vertical-align: middle;\n",
       "    }\n",
       "\n",
       "    .dataframe tbody tr th {\n",
       "        vertical-align: top;\n",
       "    }\n",
       "\n",
       "    .dataframe thead th {\n",
       "        text-align: right;\n",
       "    }\n",
       "</style>\n",
       "<table border=\"1\" class=\"dataframe\">\n",
       "  <thead>\n",
       "    <tr style=\"text-align: right;\">\n",
       "      <th></th>\n",
       "      <th>Start_Time</th>\n",
       "      <th>Profile_Name</th>\n",
       "      <th>Duration</th>\n",
       "      <th>Device_Type</th>\n",
       "      <th>Title_name</th>\n",
       "      <th>Season</th>\n",
       "      <th>Episode</th>\n",
       "      <th>Weekday</th>\n",
       "      <th>Hour</th>\n",
       "    </tr>\n",
       "  </thead>\n",
       "  <tbody>\n",
       "    <tr>\n",
       "      <th>0</th>\n",
       "      <td>2020-03-05 22:47:41-03:00</td>\n",
       "      <td>Bruno</td>\n",
       "      <td>00:48:49</td>\n",
       "      <td>Netflix AndroidLegacySTB Android</td>\n",
       "      <td>Vikings</td>\n",
       "      <td>Temporada 6</td>\n",
       "      <td>Os melhores planos (Episódio 10)</td>\n",
       "      <td>3</td>\n",
       "      <td>22</td>\n",
       "    </tr>\n",
       "    <tr>\n",
       "      <th>1</th>\n",
       "      <td>2020-03-05 22:04:00-03:00</td>\n",
       "      <td>Bruno</td>\n",
       "      <td>00:43:37</td>\n",
       "      <td>Netflix AndroidLegacySTB Android</td>\n",
       "      <td>Vikings</td>\n",
       "      <td>Temporada 6</td>\n",
       "      <td>Ressurreição (Episódio 9)</td>\n",
       "      <td>3</td>\n",
       "      <td>22</td>\n",
       "    </tr>\n",
       "    <tr>\n",
       "      <th>2</th>\n",
       "      <td>2020-03-01 22:45:32-03:00</td>\n",
       "      <td>Bruno</td>\n",
       "      <td>00:00:18</td>\n",
       "      <td>Netflix AndroidLegacySTB Android</td>\n",
       "      <td>Vikings</td>\n",
       "      <td>Temporada 6</td>\n",
       "      <td>Ressurreição (Episódio 9)</td>\n",
       "      <td>6</td>\n",
       "      <td>22</td>\n",
       "    </tr>\n",
       "    <tr>\n",
       "      <th>3</th>\n",
       "      <td>2020-03-01 22:01:30-03:00</td>\n",
       "      <td>Bruno</td>\n",
       "      <td>00:43:46</td>\n",
       "      <td>Netflix AndroidLegacySTB Android</td>\n",
       "      <td>Vikings</td>\n",
       "      <td>Temporada 6</td>\n",
       "      <td>Valhalla pode esperar (Episódio 8)</td>\n",
       "      <td>6</td>\n",
       "      <td>22</td>\n",
       "    </tr>\n",
       "    <tr>\n",
       "      <th>4</th>\n",
       "      <td>2020-03-01 21:17:16-03:00</td>\n",
       "      <td>Bruno</td>\n",
       "      <td>00:42:30</td>\n",
       "      <td>Netflix AndroidLegacySTB Android</td>\n",
       "      <td>Vikings</td>\n",
       "      <td>Temporada 6</td>\n",
       "      <td>A mulher do gelo (Episódio 7)</td>\n",
       "      <td>6</td>\n",
       "      <td>21</td>\n",
       "    </tr>\n",
       "  </tbody>\n",
       "</table>\n",
       "</div>"
      ],
      "text/plain": [
       "                 Start_Time Profile_Name Duration  \\\n",
       "0 2020-03-05 22:47:41-03:00        Bruno 00:48:49   \n",
       "1 2020-03-05 22:04:00-03:00        Bruno 00:43:37   \n",
       "2 2020-03-01 22:45:32-03:00        Bruno 00:00:18   \n",
       "3 2020-03-01 22:01:30-03:00        Bruno 00:43:46   \n",
       "4 2020-03-01 21:17:16-03:00        Bruno 00:42:30   \n",
       "\n",
       "                        Device_Type Title_name        Season  \\\n",
       "0  Netflix AndroidLegacySTB Android    Vikings   Temporada 6   \n",
       "1  Netflix AndroidLegacySTB Android    Vikings   Temporada 6   \n",
       "2  Netflix AndroidLegacySTB Android    Vikings   Temporada 6   \n",
       "3  Netflix AndroidLegacySTB Android    Vikings   Temporada 6   \n",
       "4  Netflix AndroidLegacySTB Android    Vikings   Temporada 6   \n",
       "\n",
       "                               Episode  Weekday  Hour  \n",
       "0     Os melhores planos (Episódio 10)        3    22  \n",
       "1            Ressurreição (Episódio 9)        3    22  \n",
       "2            Ressurreição (Episódio 9)        6    22  \n",
       "3   Valhalla pode esperar (Episódio 8)        6    22  \n",
       "4        A mulher do gelo (Episódio 7)        6    21  "
      ]
     },
     "execution_count": 16,
     "metadata": {},
     "output_type": "execute_result"
    }
   ],
   "source": [
    "#separando as 3 series e depois agrupando eleas usando o merge\n",
    "vikings = df[df['Title_name'] == 'Vikings']\n",
    "brooklyn = df[df['Title_name'] =='Brooklyn Nine-Nine']\n",
    "kingdom = df[df['Title_name'] == 'The Last Kingdom']\t\n",
    "\n",
    "fav2 = pd.merge(vikings,brooklyn, how= 'outer')\n",
    "favoritas = pd.merge(fav2,kingdom, how= 'outer')\n",
    "\n",
    "favoritas.head()"
   ]
  },
  {
   "cell_type": "code",
   "execution_count": 17,
   "metadata": {},
   "outputs": [
    {
     "data": {
      "text/html": [
       "<div>\n",
       "<style scoped>\n",
       "    .dataframe tbody tr th:only-of-type {\n",
       "        vertical-align: middle;\n",
       "    }\n",
       "\n",
       "    .dataframe tbody tr th {\n",
       "        vertical-align: top;\n",
       "    }\n",
       "\n",
       "    .dataframe thead th {\n",
       "        text-align: right;\n",
       "    }\n",
       "</style>\n",
       "<table border=\"1\" class=\"dataframe\">\n",
       "  <thead>\n",
       "    <tr style=\"text-align: right;\">\n",
       "      <th></th>\n",
       "      <th></th>\n",
       "      <th>Duration</th>\n",
       "    </tr>\n",
       "    <tr>\n",
       "      <th>Title_name</th>\n",
       "      <th>Season</th>\n",
       "      <th></th>\n",
       "    </tr>\n",
       "  </thead>\n",
       "  <tbody>\n",
       "    <tr>\n",
       "      <th rowspan=\"2\" valign=\"top\">Vikings</th>\n",
       "      <th>Temporada 5</th>\n",
       "      <td>18:06:04</td>\n",
       "    </tr>\n",
       "    <tr>\n",
       "      <th>Temporada 4</th>\n",
       "      <td>14:28:30</td>\n",
       "    </tr>\n",
       "    <tr>\n",
       "      <th rowspan=\"3\" valign=\"top\">The Last Kingdom</th>\n",
       "      <th>Temporada 3</th>\n",
       "      <td>10:29:24</td>\n",
       "    </tr>\n",
       "    <tr>\n",
       "      <th>Temporada 2</th>\n",
       "      <td>09:33:28</td>\n",
       "    </tr>\n",
       "    <tr>\n",
       "      <th>Temporada 4</th>\n",
       "      <td>08:42:40</td>\n",
       "    </tr>\n",
       "  </tbody>\n",
       "</table>\n",
       "</div>"
      ],
      "text/plain": [
       "                              Duration\n",
       "Title_name       Season               \n",
       "Vikings           Temporada 5 18:06:04\n",
       "                  Temporada 4 14:28:30\n",
       "The Last Kingdom  Temporada 3 10:29:24\n",
       "                  Temporada 2 09:33:28\n",
       "                  Temporada 4 08:42:40"
      ]
     },
     "execution_count": 17,
     "metadata": {},
     "output_type": "execute_result"
    }
   ],
   "source": [
    "#verificando qual temporada mais asssisti\n",
    "favoritas.groupby(['Title_name','Season']).agg({'Duration':'sum'}).sort_values(by='Duration',ascending=False).head(5)"
   ]
  },
  {
   "cell_type": "code",
   "execution_count": 18,
   "metadata": {},
   "outputs": [
    {
     "data": {
      "image/png": "[encoded data removed]",
      "text/plain": [
       "<Figure size 432x288 with 1 Axes>"
      ]
     },
     "metadata": {
      "needs_background": "light"
     },
     "output_type": "display_data"
    }
   ],
   "source": [
    "#verificando qual das series mais assisti\n",
    "ax = sns.barplot(x=\"Title_name\", y=\"Duration\", data=favoritas, estimator=sum,color=\"black\")\n",
    "ax.set_title('Duração por serie', fontsize=17);"
   ]
  },
  {
   "cell_type": "code",
   "execution_count": 19,
   "metadata": {},
   "outputs": [
    {
     "data": {
      "image/png": "[encoded data removed]",
      "text/plain": [
       "<Figure size 720x360 with 1 Axes>"
      ]
     },
     "metadata": {
      "needs_background": "light"
     },
     "output_type": "display_data"
    }
   ],
   "source": [
    "#Em qual dia da semana eu costumo asssitir Vikings\n",
    "plt.figure(figsize=(10,5))\n",
    "ax = sns.countplot(x=\"Weekday\", data=brooklyn,color=\"black\")\n",
    "ax.set_title('Episódios de Vikings por dia da semana', fontsize=17);"
   ]
  },
  {
   "cell_type": "code",
   "execution_count": 20,
   "metadata": {},
   "outputs": [
    {
     "data": {
      "image/png": "[encoded data removed]",
      "text/plain": [
       "<Figure size 720x360 with 1 Axes>"
      ]
     },
     "metadata": {
      "needs_background": "light"
     },
     "output_type": "display_data"
    }
   ],
   "source": [
    "#Em qual horario eu costumo assistir Vikings\n",
    "plt.figure(figsize=(10,5))\n",
    "ax = sns.countplot(x=\"Hour\", data=vikings,color=\"black\")\n",
    "ax.set_title('Episódios de Vikings por dia da semana', fontsize=17);"
   ]
  }
 ],
 "metadata": {
  "kernelspec": {
   "display_name": "Python 3",
   "language": "python",
   "name": "python3"
  },
  "language_info": {
   "codemirror_mode": {
    "name": "ipython",
    "version": 3
   },
   "file_extension": ".py",
   "mimetype": "text/x-python",
   "name": "python",
   "nbconvert_exporter": "python",
   "pygments_lexer": "ipython3",
   "version": "3.7.3"
  }
 },
 "nbformat": 4,
 "nbformat_minor": 4
}
